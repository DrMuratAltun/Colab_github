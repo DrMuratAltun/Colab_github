{
  "nbformat": 4,
  "nbformat_minor": 0,
  "metadata": {
    "colab": {
      "provenance": [],
      "authorship_tag": "ABX9TyPia9lbRxUgPeYPTxPff785",
      "include_colab_link": true
    },
    "kernelspec": {
      "name": "python3",
      "display_name": "Python 3"
    },
    "language_info": {
      "name": "python"
    }
  },
  "cells": [
    {
      "cell_type": "markdown",
      "metadata": {
        "id": "view-in-github",
        "colab_type": "text"
      },
      "source": [
        "<a href=\"https://colab.research.google.com/github/DrMuratAltun/ECS-DS-6-25/blob/main/ders1.ipynb\" target=\"_parent\"><img src=\"https://colab.research.google.com/assets/colab-badge.svg\" alt=\"Open In Colab\"/></a>"
      ]
    },
    {
      "cell_type": "markdown",
      "source": [
        "# **Python Giriş**"
      ],
      "metadata": {
        "id": "DOT0J9x2Qby-"
      }
    },
    {
      "cell_type": "code",
      "source": [
        "#Yorum satırları\n",
        "#Kod satırları içinde açıklama veya yorum amaçlı kullanılan satırlardır."
      ],
      "metadata": {
        "id": "PqOmw0V7QYfK"
      },
      "execution_count": null,
      "outputs": []
    },
    {
      "cell_type": "code",
      "source": [
        "Yorum satırları  # bu bir kod değil o yüzden hata verir"
      ],
      "metadata": {
        "colab": {
          "base_uri": "https://localhost:8080/",
          "height": 108
        },
        "id": "pC3x_tbcQ6Yh",
        "outputId": "52051ec3-87a0-4e20-ad74-cb176566eb22"
      },
      "execution_count": null,
      "outputs": [
        {
          "output_type": "error",
          "ename": "SyntaxError",
          "evalue": "invalid syntax (<ipython-input-4-4218977136>, line 1)",
          "traceback": [
            "\u001b[0;36m  File \u001b[0;32m\"<ipython-input-4-4218977136>\"\u001b[0;36m, line \u001b[0;32m1\u001b[0m\n\u001b[0;31m    Yorum satırları\u001b[0m\n\u001b[0m          ^\u001b[0m\n\u001b[0;31mSyntaxError\u001b[0m\u001b[0;31m:\u001b[0m invalid syntax\n"
          ]
        }
      ]
    },
    {
      "cell_type": "code",
      "source": [
        "'''\n",
        "Çoklu yorum satırları\n",
        "birden azla satırda yorum satırı olacaksa bu şekilde yazılır.\n",
        "kod yazarken arada açıklamalr yazarız\n",
        "başka programcılar veya kendimiz için hatırlatıcı olması amacıyla\n",
        "veya değişiklikleri unutmamak için\n",
        "'''"
      ],
      "metadata": {
        "colab": {
          "base_uri": "https://localhost:8080/",
          "height": 71
        },
        "id": "kNut7dzERBLJ",
        "outputId": "fc2c8118-a8f3-4129-8653-c2e759dde478"
      },
      "execution_count": null,
      "outputs": [
        {
          "output_type": "execute_result",
          "data": {
            "text/plain": [
              "'\\nÇoklu yorum satırları\\nbirden azla satırda yorum satırı olacaksa bu şekilde yazılır.\\nkod yazarken arada açıklamalr yazarız\\nbaşka progrmacıalr veya kendimiz için hatırlatıcı olması amacıyla\\nveya değişiklikleri unutmamak için\\n'"
            ],
            "application/vnd.google.colaboratory.intrinsic+json": {
              "type": "string"
            }
          },
          "metadata": {},
          "execution_count": 5
        }
      ]
    },
    {
      "cell_type": "code",
      "source": [
        "#print() ekrana yazı-metin-sayı vs. yazdırmak için kullanılır.\n",
        "print(\"Merhaba Dünya!\")\n"
      ],
      "metadata": {
        "colab": {
          "base_uri": "https://localhost:8080/"
        },
        "id": "GT1Xo62cRkO6",
        "outputId": "306f1b68-5243-441b-8ed1-b675870ef615"
      },
      "execution_count": null,
      "outputs": [
        {
          "output_type": "stream",
          "name": "stdout",
          "text": [
            "Merhaba Dünya!\n"
          ]
        }
      ]
    },
    {
      "cell_type": "code",
      "source": [
        "\"Merhaba Dünya!\" #ipynb ye özgü kullanım"
      ],
      "metadata": {
        "colab": {
          "base_uri": "https://localhost:8080/",
          "height": 35
        },
        "id": "jCC4hYPKSsKq",
        "outputId": "c605e79d-113e-4426-ff71-15ccf3774842"
      },
      "execution_count": null,
      "outputs": [
        {
          "output_type": "execute_result",
          "data": {
            "text/plain": [
              "'Merhaba Dünya!'"
            ],
            "application/vnd.google.colaboratory.intrinsic+json": {
              "type": "string"
            }
          },
          "metadata": {},
          "execution_count": 8
        }
      ]
    },
    {
      "cell_type": "code",
      "source": [
        "print(3+6+9)"
      ],
      "metadata": {
        "colab": {
          "base_uri": "https://localhost:8080/"
        },
        "id": "6UMQlhvFS0XY",
        "outputId": "cb6d9bd1-9d9a-4962-9ebf-8e70a305fb1e"
      },
      "execution_count": null,
      "outputs": [
        {
          "output_type": "stream",
          "name": "stdout",
          "text": [
            "18\n"
          ]
        }
      ]
    },
    {
      "cell_type": "code",
      "source": [
        "3+6+9"
      ],
      "metadata": {
        "colab": {
          "base_uri": "https://localhost:8080/"
        },
        "id": "sjZOPDA9S72x",
        "outputId": "b25424a0-4d3f-4861-9e4e-6099847e8529"
      },
      "execution_count": null,
      "outputs": [
        {
          "output_type": "execute_result",
          "data": {
            "text/plain": [
              "18"
            ]
          },
          "metadata": {},
          "execution_count": 10
        }
      ]
    },
    {
      "cell_type": "code",
      "source": [
        "#değişkenler Python'da değişken kullanımı çok esnek bir yapıya sahiptir\n",
        "tuz=\"tuz\"\n",
        "print(tuz)\n",
        "tuz=\"şeker\"\n",
        "print(tuz)\n",
        "tuz=100\n",
        "print(tuz)"
      ],
      "metadata": {
        "colab": {
          "base_uri": "https://localhost:8080/"
        },
        "id": "vDuMCp46S90J",
        "outputId": "3836ebe0-b879-4068-90b7-fb4aa79d8fce"
      },
      "execution_count": null,
      "outputs": [
        {
          "output_type": "stream",
          "name": "stdout",
          "text": [
            "tuz\n",
            "şeker\n",
            "100\n"
          ]
        }
      ]
    },
    {
      "cell_type": "code",
      "source": [
        "print(\"tuz\") #bu şekilde değişken olan tuz değildir"
      ],
      "metadata": {
        "colab": {
          "base_uri": "https://localhost:8080/"
        },
        "id": "zQPW4uY3TjFh",
        "outputId": "51eb3f2f-2e8e-4613-bb52-e674178a2766"
      },
      "execution_count": null,
      "outputs": [
        {
          "output_type": "stream",
          "name": "stdout",
          "text": [
            "tuz\n"
          ]
        }
      ]
    },
    {
      "cell_type": "code",
      "source": [
        "print(\"Murat\")"
      ],
      "metadata": {
        "colab": {
          "base_uri": "https://localhost:8080/"
        },
        "id": "krH5xhVsUFHx",
        "outputId": "ac7808fa-64b0-4d9d-f813-f4c99df00d03"
      },
      "execution_count": null,
      "outputs": [
        {
          "output_type": "stream",
          "name": "stdout",
          "text": [
            "Murat\n"
          ]
        }
      ]
    },
    {
      "cell_type": "code",
      "source": [
        "tuz+100"
      ],
      "metadata": {
        "colab": {
          "base_uri": "https://localhost:8080/"
        },
        "id": "vdNCgqOuUHkI",
        "outputId": "7eaf1ae8-60b6-4a13-d1c5-e3c136a9deb5"
      },
      "execution_count": null,
      "outputs": [
        {
          "output_type": "execute_result",
          "data": {
            "text/plain": [
              "200"
            ]
          },
          "metadata": {},
          "execution_count": 16
        }
      ]
    },
    {
      "cell_type": "code",
      "source": [
        "tuz+100"
      ],
      "metadata": {
        "colab": {
          "base_uri": "https://localhost:8080/"
        },
        "id": "UtcEiO6JUS_5",
        "outputId": "31b3a285-7d71-4a1b-8b9e-3e65e8bf4f3f"
      },
      "execution_count": null,
      "outputs": [
        {
          "output_type": "execute_result",
          "data": {
            "text/plain": [
              "200"
            ]
          },
          "metadata": {},
          "execution_count": 17
        }
      ]
    },
    {
      "cell_type": "code",
      "source": [
        "tuz=tuz+100\n",
        "print(tuz+100)\n",
        "print(tuz)"
      ],
      "metadata": {
        "colab": {
          "base_uri": "https://localhost:8080/"
        },
        "id": "f4gYl_jCUwKI",
        "outputId": "937c96f5-df31-43bf-ad9e-079cd2ab4f7e"
      },
      "execution_count": null,
      "outputs": [
        {
          "output_type": "stream",
          "name": "stdout",
          "text": [
            "300\n",
            "200\n"
          ]
        }
      ]
    },
    {
      "cell_type": "code",
      "source": [
        "tuz=100"
      ],
      "metadata": {
        "id": "RcnVC8liU-S5"
      },
      "execution_count": null,
      "outputs": []
    },
    {
      "cell_type": "code",
      "source": [
        "tuz"
      ],
      "metadata": {
        "colab": {
          "base_uri": "https://localhost:8080/"
        },
        "id": "8vYSskgtVc0n",
        "outputId": "cd32e5f8-1355-4d73-8a46-d9b0514ac9d3"
      },
      "execution_count": null,
      "outputs": [
        {
          "output_type": "execute_result",
          "data": {
            "text/plain": [
              "100"
            ]
          },
          "metadata": {},
          "execution_count": 20
        }
      ]
    },
    {
      "cell_type": "code",
      "source": [
        "sayi=100\n",
        "print(sayi/2)"
      ],
      "metadata": {
        "colab": {
          "base_uri": "https://localhost:8080/"
        },
        "id": "w98P4eUmVdag",
        "outputId": "56602123-44b0-4584-f8f8-62193b5834eb"
      },
      "execution_count": null,
      "outputs": [
        {
          "output_type": "stream",
          "name": "stdout",
          "text": [
            "50.0\n"
          ]
        }
      ]
    },
    {
      "cell_type": "code",
      "source": [
        "sayi=\"Murat\"\n",
        "print(sayi)"
      ],
      "metadata": {
        "colab": {
          "base_uri": "https://localhost:8080/"
        },
        "id": "oCXZHs_LVryQ",
        "outputId": "12076221-0ba3-4492-d2c9-e0d78d29c7b6"
      },
      "execution_count": null,
      "outputs": [
        {
          "output_type": "stream",
          "name": "stdout",
          "text": [
            "Murat\n"
          ]
        }
      ]
    },
    {
      "cell_type": "code",
      "source": [
        "sayi+\" ALTUN\""
      ],
      "metadata": {
        "colab": {
          "base_uri": "https://localhost:8080/",
          "height": 35
        },
        "id": "5qSRQueYVx2Q",
        "outputId": "42589c5d-8514-4a60-93e8-675808b9c80d"
      },
      "execution_count": null,
      "outputs": [
        {
          "output_type": "execute_result",
          "data": {
            "text/plain": [
              "'Murat ALTUN'"
            ],
            "application/vnd.google.colaboratory.intrinsic+json": {
              "type": "string"
            }
          },
          "metadata": {},
          "execution_count": 23
        }
      ]
    },
    {
      "cell_type": "code",
      "source": [
        "'''Murat ''' + '''ALTUN'''"
      ],
      "metadata": {
        "colab": {
          "base_uri": "https://localhost:8080/",
          "height": 35
        },
        "id": "e-2s9skiV3WQ",
        "outputId": "7267bda8-55b0-4e4d-fa9d-6258cfc583fc"
      },
      "execution_count": null,
      "outputs": [
        {
          "output_type": "execute_result",
          "data": {
            "text/plain": [
              "'Murat ALTUN'"
            ],
            "application/vnd.google.colaboratory.intrinsic+json": {
              "type": "string"
            }
          },
          "metadata": {},
          "execution_count": 25
        }
      ]
    },
    {
      "cell_type": "code",
      "source": [
        "'Murat' + ' ALTUN'"
      ],
      "metadata": {
        "colab": {
          "base_uri": "https://localhost:8080/",
          "height": 35
        },
        "id": "ErAnSv-0WB6x",
        "outputId": "814be5c1-b2fa-46d7-d2a1-b2204ebd7b24"
      },
      "execution_count": null,
      "outputs": [
        {
          "output_type": "execute_result",
          "data": {
            "text/plain": [
              "'Murat ALTUN'"
            ],
            "application/vnd.google.colaboratory.intrinsic+json": {
              "type": "string"
            }
          },
          "metadata": {},
          "execution_count": 27
        }
      ]
    },
    {
      "cell_type": "code",
      "source": [
        "\"Python\" + \" \" + \"Programlama\" + \" \" + \"Dili\""
      ],
      "metadata": {
        "colab": {
          "base_uri": "https://localhost:8080/",
          "height": 35
        },
        "id": "fxZq-_xBWH-Q",
        "outputId": "ae3fd5e4-6ce8-4169-9ada-fb5fb5cef6b0"
      },
      "execution_count": null,
      "outputs": [
        {
          "output_type": "execute_result",
          "data": {
            "text/plain": [
              "'Python Programlama Dili'"
            ],
            "application/vnd.google.colaboratory.intrinsic+json": {
              "type": "string"
            }
          },
          "metadata": {},
          "execution_count": 28
        }
      ]
    },
    {
      "cell_type": "code",
      "source": [
        "print (\n",
        "\"\"\"\n",
        "Yağdı yağmur\n",
        "Çaktı şimşek\n",
        "\"\"\")"
      ],
      "metadata": {
        "colab": {
          "base_uri": "https://localhost:8080/"
        },
        "id": "6D2S19DQWPWA",
        "outputId": "ed8058a2-1069-4448-a406-72ad23fd97ef"
      },
      "execution_count": null,
      "outputs": [
        {
          "output_type": "stream",
          "name": "stdout",
          "text": [
            "\n",
            "Yağdı yağmur\n",
            "Çaktı şimşek\n",
            "\n"
          ]
        }
      ]
    },
    {
      "cell_type": "code",
      "source": [
        "veri_sayisi=100 #değişkenin adı içerikle uygun çok uzun ve çok kısa olmamalı ve yasaklı ifadelerden oluşmamalıdır. sayıyla başlayamaz."
      ],
      "metadata": {
        "id": "gCFQzyigWWcw"
      },
      "execution_count": null,
      "outputs": []
    },
    {
      "cell_type": "code",
      "source": [
        "1.sayi= 10 #hatali kullanım"
      ],
      "metadata": {
        "colab": {
          "base_uri": "https://localhost:8080/",
          "height": 108
        },
        "id": "WCjXNFBLXYgu",
        "outputId": "b5fbfeb2-9587-4c2f-845e-51cddb4d3bba"
      },
      "execution_count": null,
      "outputs": [
        {
          "output_type": "error",
          "ename": "SyntaxError",
          "evalue": "invalid decimal literal (<ipython-input-32-402766410>, line 1)",
          "traceback": [
            "\u001b[0;36m  File \u001b[0;32m\"<ipython-input-32-402766410>\"\u001b[0;36m, line \u001b[0;32m1\u001b[0m\n\u001b[0;31m    1.sayi= 10 #hatali kullanım\u001b[0m\n\u001b[0m     ^\u001b[0m\n\u001b[0;31mSyntaxError\u001b[0m\u001b[0;31m:\u001b[0m invalid decimal literal\n"
          ]
        }
      ]
    },
    {
      "cell_type": "code",
      "source": [
        "#operatörler işleçler\n",
        "#Aritmetik operatörler\n",
        "#+ - * / % // **\n",
        "sayi1=10\n",
        "sayi2=36\n",
        "print(\"Toplam: \", sayi1+sayi2)\n",
        "print(\"Fark: \", sayi1-sayi2)\n",
        "print(\"Çarpım:\", sayi1*sayi2)\n",
        "print(\"Bölüm: \", sayi1/sayi2)\n",
        "print(\"Kalan: \", sayi1%sayi2)\n",
        "print(\"Tam Bölüm: \", sayi1//sayi2)\n",
        "print(\"Üs: \", sayi1**sayi2)"
      ],
      "metadata": {
        "colab": {
          "base_uri": "https://localhost:8080/"
        },
        "id": "RQYRob7dXcGJ",
        "outputId": "be12338d-7fc7-4261-af2b-56904a93ff0f"
      },
      "execution_count": null,
      "outputs": [
        {
          "output_type": "stream",
          "name": "stdout",
          "text": [
            "Toplam:  46\n",
            "Fark:  -26\n",
            "Çarpım: 360\n",
            "Bölüm:  0.2777777777777778\n",
            "Kalan:  10\n",
            "Tam Bölüm:  0\n",
            "Üs:  1000000000000000000000000000000000000\n"
          ]
        }
      ]
    },
    {
      "cell_type": "code",
      "source": [
        "# atama operatörü\n",
        "sayi1=sayi1+34\n",
        "sayi1"
      ],
      "metadata": {
        "colab": {
          "base_uri": "https://localhost:8080/"
        },
        "id": "cJ6gdQkVaE-6",
        "outputId": "6dd698f4-70ba-4b8b-d797-3292678c868b"
      },
      "execution_count": null,
      "outputs": [
        {
          "output_type": "execute_result",
          "data": {
            "text/plain": [
              "68"
            ]
          },
          "metadata": {},
          "execution_count": 36
        }
      ]
    },
    {
      "cell_type": "code",
      "source": [
        "#Karşılaştırma operatörleri True False\n",
        "print (sayi1==34) # sayi1 34 e eşit mi"
      ],
      "metadata": {
        "colab": {
          "base_uri": "https://localhost:8080/"
        },
        "id": "OIhbT4PoaL91",
        "outputId": "4c55b6a2-880a-44f9-b29d-9aac7f407706"
      },
      "execution_count": null,
      "outputs": [
        {
          "output_type": "stream",
          "name": "stdout",
          "text": [
            "False\n"
          ]
        }
      ]
    },
    {
      "cell_type": "code",
      "source": [
        "sayi1=34\n",
        "sayi1==34"
      ],
      "metadata": {
        "colab": {
          "base_uri": "https://localhost:8080/"
        },
        "id": "a7jzkSf4afYU",
        "outputId": "bc1f20ec-f854-4433-fd7b-111932999823"
      },
      "execution_count": null,
      "outputs": [
        {
          "output_type": "execute_result",
          "data": {
            "text/plain": [
              "True"
            ]
          },
          "metadata": {},
          "execution_count": 38
        }
      ]
    },
    {
      "cell_type": "code",
      "source": [
        "yas=17 # değer atama\n",
        "if yas>=18: #karşılaştırma operatörü\n",
        "    print(\"Ehliyet için yaş uygun.\")\n",
        "else:print(\"Uygun değil!\")"
      ],
      "metadata": {
        "colab": {
          "base_uri": "https://localhost:8080/"
        },
        "id": "QNfvatrAa2Hb",
        "outputId": "cbcda8bf-2b42-406f-8405-298a8c9d0be1"
      },
      "execution_count": null,
      "outputs": [
        {
          "output_type": "stream",
          "name": "stdout",
          "text": [
            "Uygun değil!\n"
          ]
        }
      ]
    },
    {
      "cell_type": "code",
      "source": [
        "universite=True\n",
        "ehliyet=True\n",
        "askerlik=False\n",
        "is_tecrubesi=5\n",
        "if universite and ehliyet and askerlik and is_tecrubesi>=5:\n",
        "    print(\"Tüm koşulları sağladınız!\")\n",
        "else: print(\"Koşullarınız uygun değil!\")"
      ],
      "metadata": {
        "colab": {
          "base_uri": "https://localhost:8080/"
        },
        "id": "YsL0rM5kbtL1",
        "outputId": "a184b9d0-82b3-4498-a7b1-d9af0817a130"
      },
      "execution_count": null,
      "outputs": [
        {
          "output_type": "stream",
          "name": "stdout",
          "text": [
            "Koşullarınız uygun değil!\n"
          ]
        }
      ]
    },
    {
      "cell_type": "code",
      "source": [
        "#büyük harf küçük harf duyarlılığı\n",
        "sayi1=10\n",
        "Sayi1=20\n",
        "SAYİ1=30"
      ],
      "metadata": {
        "id": "8DQIw0nqdLb6"
      },
      "execution_count": null,
      "outputs": []
    },
    {
      "cell_type": "code",
      "source": [
        "sayi1, Sayi1, SAYİ1"
      ],
      "metadata": {
        "colab": {
          "base_uri": "https://localhost:8080/"
        },
        "id": "maU-MfvDdTrX",
        "outputId": "026da745-c3f2-4b07-c11d-e1de2fe0703d"
      },
      "execution_count": null,
      "outputs": [
        {
          "output_type": "execute_result",
          "data": {
            "text/plain": [
              "(10, 20, 30)"
            ]
          },
          "metadata": {},
          "execution_count": 47
        }
      ]
    },
    {
      "cell_type": "code",
      "source": [
        "universite=True\n",
        "ehliyet=True\n",
        "askerlik=True\n",
        "is_tecrubesi=4\n",
        "veri_bilimi=True\n",
        "#mantıksal operatörler\n",
        "if universite and ehliyet and askerlik and (is_tecrubesi>=5 or veri_bilimi):\n",
        "    print(\"Tüm koşulları sağladınız!\")\n",
        "else: print(\"Koşullarınız uygun değil!\")"
      ],
      "metadata": {
        "colab": {
          "base_uri": "https://localhost:8080/"
        },
        "id": "oHUEj86adVZB",
        "outputId": "6325e4d9-5250-4ca9-8595-da14ab501eff"
      },
      "execution_count": null,
      "outputs": [
        {
          "output_type": "stream",
          "name": "stdout",
          "text": [
            "Tüm koşulları sağladınız!\n"
          ]
        }
      ]
    },
    {
      "cell_type": "code",
      "source": [
        "mission=False\n",
        "if not mission:\n",
        "    print(\"Görev tamamlanmış olmalı!\")"
      ],
      "metadata": {
        "colab": {
          "base_uri": "https://localhost:8080/"
        },
        "id": "njUtLnpoeH35",
        "outputId": "e93b25f1-3801-49ec-9a71-d676f14756df"
      },
      "execution_count": null,
      "outputs": [
        {
          "output_type": "stream",
          "name": "stdout",
          "text": [
            "Görev tamamlanmış olmalı!\n"
          ]
        }
      ]
    },
    {
      "cell_type": "code",
      "source": [
        "#Veri Türleri\n",
        "#tam sayı(integer) ondalıklı sayı (float), metinsel ifade (string), Boolean (True, False)"
      ],
      "metadata": {
        "id": "F1bPlZpDeVGG"
      },
      "execution_count": null,
      "outputs": []
    },
    {
      "cell_type": "code",
      "source": [
        "sayi=160\n",
        "print (sayi>=1 and sayi<=100)"
      ],
      "metadata": {
        "colab": {
          "base_uri": "https://localhost:8080/"
        },
        "id": "sVjFEcYpfH4K",
        "outputId": "5126ae33-b342-4021-85b7-59e29e84c0d6"
      },
      "execution_count": null,
      "outputs": [
        {
          "output_type": "stream",
          "name": "stdout",
          "text": [
            "False\n"
          ]
        }
      ]
    },
    {
      "cell_type": "code",
      "source": [
        "vize_puani=int(input(\"Vizepuanını giriniz:\"))\n",
        "print(vize_puani)"
      ],
      "metadata": {
        "colab": {
          "base_uri": "https://localhost:8080/"
        },
        "id": "0cfyJcjbfqNc",
        "outputId": "b62708e5-7fcc-4862-f914-1ac10bccdd7a"
      },
      "execution_count": null,
      "outputs": [
        {
          "output_type": "stream",
          "name": "stdout",
          "text": [
            "Vizepuanını giriniz:50\n",
            "50\n"
          ]
        }
      ]
    },
    {
      "cell_type": "code",
      "source": [
        "#Gelecek derse kadar\n",
        "#üniversite ders notu hesaplama\n",
        "# öğrencinin vize final derse devam puanlarını alın\n",
        "# aralıkları kontrol edin  if  vize>=0 and vize<=100 olmalı else :uyarı\n",
        "#sonra vize .3 final .5  ve derse devam .2 çaparak harf notuyna çevir\n",
        "#90 dan büyük A\n",
        "#80-90 B"
      ],
      "metadata": {
        "id": "5_CoiXabfayV"
      },
      "execution_count": null,
      "outputs": []
    },
    {
      "cell_type": "code",
      "source": [
        "metin=\"Murat\"\n",
        "metin[0], metin[-1]"
      ],
      "metadata": {
        "colab": {
          "base_uri": "https://localhost:8080/"
        },
        "id": "27pJT37g58Ng",
        "outputId": "244e780f-220c-4280-aa6b-50dd9e54ddb5"
      },
      "execution_count": null,
      "outputs": [
        {
          "output_type": "execute_result",
          "data": {
            "text/plain": [
              "('M', 't')"
            ]
          },
          "metadata": {},
          "execution_count": 2
        }
      ]
    },
    {
      "cell_type": "code",
      "source": [
        "#maskeleme\n",
        "ad=input(\"Adınızı giriniz: \")\n",
        "soyad=input(\"Soyadınızı giriniz: \")\n",
        "TC_kimlik_no=input(\"TC kimlik numaranızı giriniz: \")\n",
        "maske_ad=ad[0]+\"******\"+ad[-1]\n",
        "maske_soyad=soyad[0]+\"******\"+soyad[-1]\n",
        "maske_TC=TC_kimlik_no[0]+\"******\"+TC_kimlik_no[-1]\n",
        "print(maske_ad, maske_soyad,maske_TC)"
      ],
      "metadata": {
        "id": "qaBftjLEgQvz",
        "colab": {
          "base_uri": "https://localhost:8080/"
        },
        "outputId": "9378f829-f83c-4a90-db47-3fbf87d7f597"
      },
      "execution_count": null,
      "outputs": [
        {
          "output_type": "stream",
          "name": "stdout",
          "text": [
            "Adınızı giriniz: Murat\n",
            "Soyadınızı giriniz: Altun\n",
            "TC kimlik numaranızı giriniz: 12345678910\n",
            "M******t A******n 1******0\n"
          ]
        }
      ]
    },
    {
      "cell_type": "code",
      "source": [
        "#fonksiyon tanımlama\n",
        "def selamlama():\n",
        "    print(\"Merhaba Dünya!\")"
      ],
      "metadata": {
        "id": "bvAAgiF-6RDC"
      },
      "execution_count": null,
      "outputs": []
    },
    {
      "cell_type": "code",
      "source": [
        "selamlama()"
      ],
      "metadata": {
        "colab": {
          "base_uri": "https://localhost:8080/"
        },
        "id": "nvB6_-N_8Kt6",
        "outputId": "50dc9318-5532-4c23-fbcb-1ab96f1e2037"
      },
      "execution_count": null,
      "outputs": [
        {
          "output_type": "stream",
          "name": "stdout",
          "text": [
            "Merhaba Dünya!\n"
          ]
        }
      ]
    },
    {
      "cell_type": "code",
      "source": [
        "def daire_alani(r,pi=3.14):\n",
        "    return(pi*r*r)"
      ],
      "metadata": {
        "id": "7e5lH-hP8MTi"
      },
      "execution_count": null,
      "outputs": []
    },
    {
      "cell_type": "code",
      "source": [
        "daire_alani(4)"
      ],
      "metadata": {
        "colab": {
          "base_uri": "https://localhost:8080/"
        },
        "id": "nFRPohha8pPG",
        "outputId": "1a50e72a-ae90-4139-9ea8-47fff944a9f4"
      },
      "execution_count": null,
      "outputs": [
        {
          "output_type": "execute_result",
          "data": {
            "text/plain": [
              "50.24"
            ]
          },
          "metadata": {},
          "execution_count": 12
        }
      ]
    },
    {
      "cell_type": "code",
      "source": [
        "daire_alani(4,3)"
      ],
      "metadata": {
        "colab": {
          "base_uri": "https://localhost:8080/"
        },
        "id": "VqTyA6ER8s0f",
        "outputId": "76127e7f-bf27-4132-efb6-ef4bf2f78dc4"
      },
      "execution_count": null,
      "outputs": [
        {
          "output_type": "execute_result",
          "data": {
            "text/plain": [
              "48"
            ]
          },
          "metadata": {},
          "execution_count": 13
        }
      ]
    },
    {
      "cell_type": "code",
      "source": [
        "if daire_alani(1,3)>=10:\n",
        "    print(\"Standart dışı!\")\n",
        "else: print(\"Standartlara uygun!\")\n"
      ],
      "metadata": {
        "colab": {
          "base_uri": "https://localhost:8080/"
        },
        "id": "psyqYIgI81MI",
        "outputId": "d8c51980-7a76-4ba3-e849-87f23b0ff0d8"
      },
      "execution_count": null,
      "outputs": [
        {
          "output_type": "stream",
          "name": "stdout",
          "text": [
            "Standartlara uygun!\n"
          ]
        }
      ]
    },
    {
      "cell_type": "code",
      "source": [
        "def maskeleme(metin):\n",
        "    return (metin[0] +\"*****\" +metin[-1])"
      ],
      "metadata": {
        "id": "iAXKnCu49wT6"
      },
      "execution_count": null,
      "outputs": []
    },
    {
      "cell_type": "code",
      "source": [
        "isim_listesi=[\"Taha Özdenoğlu\",\n",
        "              \"Bahri Burak Türk\",\n",
        "              \"Melek Özalp\",\n",
        "              \"Şevval Naz Savaş\",\n",
        "              \"Murat ALTUN\"]"
      ],
      "metadata": {
        "id": "Yw5hsDyh-eCI"
      },
      "execution_count": null,
      "outputs": []
    },
    {
      "cell_type": "code",
      "source": [
        "for isim in isim_listesi:\n",
        "    metin_listesi=isim.split(\" \")\n",
        "    for metin in metin_listesi:\n",
        "        print(maskeleme (metin), end=\" \")\n",
        "    print(\"\\n\")"
      ],
      "metadata": {
        "colab": {
          "base_uri": "https://localhost:8080/"
        },
        "id": "g6IxnR22-6XT",
        "outputId": "13c7232e-685a-4b89-f4bb-96daef8d48fc"
      },
      "execution_count": null,
      "outputs": [
        {
          "output_type": "stream",
          "name": "stdout",
          "text": [
            "T*****a Ö*****u \n",
            "\n",
            "B*****i B*****k T*****k \n",
            "\n",
            "M*****k Ö*****p \n",
            "\n",
            "Ş*****l N*****z S*****ş \n",
            "\n",
            "M*****t A*****N \n",
            "\n"
          ]
        }
      ]
    },
    {
      "cell_type": "code",
      "source": [
        "isim_listesi[2]"
      ],
      "metadata": {
        "colab": {
          "base_uri": "https://localhost:8080/",
          "height": 36
        },
        "id": "dTpOri4SCE5x",
        "outputId": "612ee896-0c5d-469e-fa1c-0369297d83e7"
      },
      "execution_count": null,
      "outputs": [
        {
          "output_type": "execute_result",
          "data": {
            "text/plain": [
              "'Melek Özalp'"
            ],
            "application/vnd.google.colaboratory.intrinsic+json": {
              "type": "string"
            }
          },
          "metadata": {},
          "execution_count": 30
        }
      ]
    },
    {
      "cell_type": "code",
      "source": [
        "sayilar=list(range(1,11))"
      ],
      "metadata": {
        "id": "xHA_8NHGDJI_"
      },
      "execution_count": null,
      "outputs": []
    },
    {
      "cell_type": "code",
      "source": [
        "sayilar"
      ],
      "metadata": {
        "colab": {
          "base_uri": "https://localhost:8080/"
        },
        "id": "jPBXF90nDPpd",
        "outputId": "a8a05e0c-b16f-45fc-b6f2-6003f11350c3"
      },
      "execution_count": null,
      "outputs": [
        {
          "output_type": "execute_result",
          "data": {
            "text/plain": [
              "[1, 2, 3, 4, 5, 6, 7, 8, 9, 10]"
            ]
          },
          "metadata": {},
          "execution_count": 32
        }
      ]
    },
    {
      "cell_type": "code",
      "source": [
        "for sayi in sayilar:\n",
        "    print(sayi,\"karesi:\",sayi*sayi)"
      ],
      "metadata": {
        "colab": {
          "base_uri": "https://localhost:8080/"
        },
        "id": "NuYRNA9tDQz3",
        "outputId": "4edecc4a-e228-4b4f-d994-6c6d0b1ec428"
      },
      "execution_count": null,
      "outputs": [
        {
          "output_type": "stream",
          "name": "stdout",
          "text": [
            "1 karesi: 1\n",
            "2 karesi: 4\n",
            "3 karesi: 9\n",
            "4 karesi: 16\n",
            "5 karesi: 25\n",
            "6 karesi: 36\n",
            "7 karesi: 49\n",
            "8 karesi: 64\n",
            "9 karesi: 81\n",
            "10 karesi: 100\n"
          ]
        }
      ]
    },
    {
      "cell_type": "code",
      "source": [
        "sayilar_kare=[sayi*sayi for sayi in sayilar]\n",
        "sayilar_kare"
      ],
      "metadata": {
        "colab": {
          "base_uri": "https://localhost:8080/"
        },
        "id": "N6pwXPlSDiO4",
        "outputId": "8eb9246e-f347-48b5-a94f-370634c3053e"
      },
      "execution_count": null,
      "outputs": [
        {
          "output_type": "execute_result",
          "data": {
            "text/plain": [
              "[1, 4, 9, 16, 25, 36, 49, 64, 81, 100]"
            ]
          },
          "metadata": {},
          "execution_count": 34
        }
      ]
    },
    {
      "cell_type": "code",
      "source": [
        "isimler=[\"Murat\",\"Ahmet\", \"Elif\"]\n",
        "maske_isimler=[(isim[0]+\"****\") for isim in isimler]\n",
        "maske_isimler"
      ],
      "metadata": {
        "colab": {
          "base_uri": "https://localhost:8080/"
        },
        "id": "4vVByV5tDxT4",
        "outputId": "5086e049-0745-4172-a58b-c44bb0ddc945"
      },
      "execution_count": null,
      "outputs": [
        {
          "output_type": "execute_result",
          "data": {
            "text/plain": [
              "['M****', 'A****', 'E****']"
            ]
          },
          "metadata": {},
          "execution_count": 35
        }
      ]
    },
    {
      "cell_type": "code",
      "source": [],
      "metadata": {
        "id": "0i7nOMbGEYjR"
      },
      "execution_count": null,
      "outputs": []
    }
  ]
}