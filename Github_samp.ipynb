{
  "nbformat": 4,
  "nbformat_minor": 0,
  "metadata": {
    "colab": {
      "provenance": [],
      "authorship_tag": "ABX9TyO10nMIGptdhS776F6Jjv40",
      "include_colab_link": true
    },
    "kernelspec": {
      "name": "python3",
      "display_name": "Python 3"
    },
    "language_info": {
      "name": "python"
    }
  },
  "cells": [
    {
      "cell_type": "markdown",
      "metadata": {
        "id": "view-in-github",
        "colab_type": "text"
      },
      "source": [
        "<a href=\"https://colab.research.google.com/github/DrMuratAltun/Colab_github/blob/main/Github_samp.ipynb\" target=\"_parent\"><img src=\"https://colab.research.google.com/assets/colab-badge.svg\" alt=\"Open In Colab\"/></a>"
      ]
    },
    {
      "cell_type": "markdown",
      "source": [
        "## Örnek\n",
        "Bu örnek GitHub reposunu-Colab' e bağlamak için yapılmıştır."
      ],
      "metadata": {
        "id": "186isgdhH8_N"
      }
    },
    {
      "cell_type": "code",
      "execution_count": 1,
      "metadata": {
        "colab": {
          "base_uri": "https://localhost:8080/"
        },
        "id": "okUb9Ka9HkOx",
        "outputId": "860c1485-210b-447b-9d4c-c27037179011"
      },
      "outputs": [
        {
          "output_type": "stream",
          "name": "stdout",
          "text": [
            "Hello Github!\n"
          ]
        }
      ],
      "source": [
        "print(\"Hello Github!\")"
      ]
    },
    {
      "cell_type": "code",
      "source": [],
      "metadata": {
        "id": "I82FZ7TdIHli"
      },
      "execution_count": null,
      "outputs": []
    }
  ]
}